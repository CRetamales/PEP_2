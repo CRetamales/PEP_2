{
 "cells": [
  {
   "cell_type": "markdown",
   "id": "07687e58-9431-42b9-905e-bf1e9910f847",
   "metadata": {},
   "source": [
    "# Guía de Ejercicios 4"
   ]
  },
  {
   "cell_type": "markdown",
   "id": "9875d4c8",
   "metadata": {},
   "source": [
    "Mayusculas negrita son matrices, minusculas negrita son vectores columnas. Escalares en minusculas."
   ]
  },
  {
   "cell_type": "markdown",
   "id": "836617ba",
   "metadata": {},
   "source": [
    "1. Si A es una matriz de m × n y B es de n × p, el algoritmo naïve de multiplicación calcula las entradas de C = AB una a una mediante la formula cij = Pn k=1 aikbkj . Calcule de manera exacta el número de multiplicaciones y de sumas que requiere este algoritmo. Para matrices cuadradas de n × n ¿Cuántas operaciones se requieren en notación O? ¿Existen algoritmos mas eficientes en términos asintóticos?\n",
    "\n",
    "Respuesta: El algoritmo naïve de multiplicación requiere de $n^3$ multiplicaciones y $n^2$ sumas. Para matrices cuadradas de $n \\times n$ se requieren $n^3$ operaciones en notación O. Existen algoritmos más eficientes en términos asintóticos, como el algoritmo de Strassen que requiere $n^{2.807}$ operaciones. También se puede utilizar el algoritmo de multiplicación de Karatsuba que requiere $n^{2.585}$ operaciones. "
   ]
  },
  {
   "cell_type": "markdown",
   "id": "ba263e69",
   "metadata": {},
   "source": [
    "2. Una matriz es diagonal si tiene ceros en todas las entradas fuera de la diagonal principal. Si\n",
    "D es diagonal de n × n y A es de n × n, describa en palabras que efecto tiene sobre las filas\n",
    "y/o columnas de A hacer las multiplicaciones DA y AD. Ejemplifique.\n",
    "\n",
    "Respuesta: Si D es diagonal de $n \\times n$ y A es de $n \\times n$, entonces la multiplicación DA es equivalente a multiplicar cada fila de A por el elemento de la diagonal correspondiente. Por otro lado, la multiplicación AD es equivalente a multiplicar cada columna de A por el elemento de la diagonal correspondiente. Un ejemplo de esto es la matriz $A = \\begin{bmatrix} 1 & 2 & 3 \\\\ 4 & 5 & 6 \\\\ 7 & 8 & 9 \\end{bmatrix}$ y la matriz diagonal $D = \\begin{bmatrix} 1 & 0 & 0 \\\\ 0 & 2 & 0 \\\\ 0 & 0 & 3 \\end{bmatrix}$. Entonces, $DA = \\begin{bmatrix} 1 & 2 & 3 \\\\ 8 & 10 & 12 \\\\ 21 & 24 & 27 \\end{bmatrix}$ y $AD = \\begin{bmatrix} 1 & 4 & 9 \\\\ 2 & 10 & 18 \\\\ 3 & 12 & 27 \\end{bmatrix}$."
   ]
  },
  {
   "cell_type": "code",
   "execution_count": 4,
   "id": "2165a02e",
   "metadata": {},
   "outputs": [
    {
     "data": {
      "text/plain": [
       "3×3 Matrix{Int64}:\n",
       "  1   2   3\n",
       "  8  10  12\n",
       " 21  24  27"
      ]
     },
     "execution_count": 4,
     "metadata": {},
     "output_type": "execute_result"
    }
   ],
   "source": [
    "using LinearAlgebra\n",
    "\n",
    "D = [1 0 0; 0 2 0; 0 0 3]\n",
    "\n",
    "A = [1 2 3; 4 5 6; 7 8 9]\n",
    "\n",
    "DA = D*A\n",
    "\n",
    "AD = A*D\n",
    "\n",
    "DA"
   ]
  },
  {
   "cell_type": "code",
   "execution_count": 3,
   "id": "e2e5ac37-9dfa-496e-9fa9-7bc52a26d9a2",
   "metadata": {},
   "outputs": [
    {
     "data": {
      "text/plain": [
       "3×3 Matrix{Int64}:\n",
       " 1   4   9\n",
       " 4  10  18\n",
       " 7  16  27"
      ]
     },
     "execution_count": 3,
     "metadata": {},
     "output_type": "execute_result"
    }
   ],
   "source": [
    "AD"
   ]
  },
  {
   "cell_type": "markdown",
   "id": "7da05c16",
   "metadata": {},
   "source": [
    "3. Suponga que se tienen dos ecuaciones __Ax__ = __v__ y __Ay__ = __w__. Ponga exactamente la misma\n",
    "información en una única ecuación matricial __AB__ = __C__ ¿Qué hay en las matrices __B__ y __C__? Si __A__\n",
    "es de m × n ¿Qué dimensiones tienen __B__ y __C__?\n",
    "\n",
    "Respuesta: Si se tienen dos ecuaciones $Ax = v$ y $Ay = w$, entonces se puede poner exactamente la misma información en una única ecuación matricial $AB = C$. En este caso, $B$ es una matriz de $n \\times m$ y $C$ es una matriz de $n \\times 2$. De esta forma, $B$ es la matriz inversa de $A$ y $C$ es la matriz de los vectores $v$ y $w$ y sus columnas son $v$ y $w$. "
   ]
  },
  {
   "cell_type": "markdown",
   "id": "2ca816d0",
   "metadata": {},
   "source": [
    "4. Si __a__ y __b__ son vectores de tamaño m y n respectivamente, es posible realizar la multiplicación $ab^{T}$ ¿Qué forma tiene el resultado? ¿Qué hay en la entrada ij de $ab^{T}$? ¿Qué se puede decir respecto de $aa^{T}$ ?\n",
    "\n",
    "Respuesta: Si $a$ y $b$ son vectores de tamaño $m$ y $n$ respectivamente, entonces es posible realizar la multiplicación $ab^{T}$. El resultado tiene forma de matriz de $m \\times n$ y en la entrada $ij$ de $ab^{T}$ se encuentra el producto de la entrada $i$ de $a$ por la entrada $j$ de $b$. Por otro lado, $aa^{T}$ es una matriz de $m \\times m$ y en la entrada $ij$ de $aa^{T}$ se encuentra el producto de la entrada $i$ de $a$ por la entrada $j$ de $a$. En este caso, $aa^{T}$ es una matriz simétrica y es igual a su transpuesta $a^{T}a$. Un ejemplo de esto es $a = \\begin{bmatrix} 1 \\\\ 2 \\\\ 3 \\end{bmatrix}$ y $b = \\begin{bmatrix} 4 \\\\ 5 \\\\ 6 \\end{bmatrix}$. Entonces, $ab^{T} = \\begin{bmatrix} 4 & 5 & 6 \\\\ 8 & 10 & 12 \\\\ 12 & 15 & 18 \\end{bmatrix}$ y $aa^{T} = \\begin{bmatrix} 1 & 2 & 3 \\\\ 2 & 4 & 6 \\\\ 3 & 6 & 9 \\end{bmatrix}$."
   ]
  },
  {
   "cell_type": "code",
   "execution_count": 2,
   "id": "1f046b3a-da09-4d3a-a1d8-4c2491d15b43",
   "metadata": {},
   "outputs": [
    {
     "data": {
      "text/plain": [
       "3×3 Matrix{Int64}:\n",
       "  4   5   6\n",
       "  8  10  12\n",
       " 12  15  18"
      ]
     },
     "execution_count": 2,
     "metadata": {},
     "output_type": "execute_result"
    }
   ],
   "source": [
    "a = [1; 2; 3]\n",
    "b = [4; 5; 6]\n",
    "abT = a*b'\n"
   ]
  },
  {
   "cell_type": "code",
   "execution_count": 3,
   "id": "eecc0b7b",
   "metadata": {},
   "outputs": [
    {
     "data": {
      "text/plain": [
       "3×3 Matrix{Int64}:\n",
       " 1  2  3\n",
       " 2  4  6\n",
       " 3  6  9"
      ]
     },
     "execution_count": 3,
     "metadata": {},
     "output_type": "execute_result"
    }
   ],
   "source": [
    "aaT = a*a'"
   ]
  },
  {
   "cell_type": "markdown",
   "id": "ad0a104f",
   "metadata": {},
   "source": [
    "5. Partimos con una matriz __B__. Si queremos combinaciones de sus filas, premultiplicamos por una\n",
    "matriz __A__ para obtener __AB__. Si queremos combinaciones de sus columnas postmultiplicamos\n",
    "por una matriz __C__ para obtener __BC__. Si hacemos ambas cosas se obtiene el mismo resultado\n",
    "ABC independiente del orden de las multiplicaciones. Verifique la regla de asociatividad\n",
    "explícitamente calculando ambos lados de (__AB__)__C__ = __A__(__BC__) para:\n",
    "\n",
    "$A = \\begin{bmatrix} 1 & a \\\\ 0 & 1 \\end{bmatrix}$\n",
    "$B = \\begin{bmatrix} b_{1} & b_{2} \\\\ b_{3} & b_{4} \\end{bmatrix}$\n",
    "$C = \\begin{bmatrix} 1 & 0 \\\\ c & 1 \\end{bmatrix}$\n",
    "\n",
    "Respuesta: Si se tiene $A = \\begin{bmatrix} 1 & a \\\\ 0 & 1 \\end{bmatrix}$, $B = \\begin{bmatrix} b_{1} & b_{2} \\\\ b_{3} & b_{4} \\end{bmatrix}$ y $C = \\begin{bmatrix} 1 & 0 \\\\ c & 1 \\end{bmatrix}$, entonces se tiene que $(AB)C = \\begin{bmatrix} b_{1} & b_{2} \\\\ b_{3} & b_{4} \\end{bmatrix} \\begin{bmatrix} 1 & 0 \\\\ c & 1 \\end{bmatrix} = \\begin{bmatrix} b_{1} & b_{2} \\\\ b_{3} + cb_{1} & b_{4} + cb_{2} \\end{bmatrix} = \\begin{bmatrix} b_{1} & b_{2} \\\\ b_{3} + cb_{1} & b_{4} + cb_{2} \\end{bmatrix} \\begin{bmatrix} 1 & 0 \\\\ c & 1 \\end{bmatrix} = \\begin{bmatrix} b_{1} & b_{2} \\\\ b_{3} + cb_{1} & b_{4} + cb_{2} \\end{bmatrix} \\begin{bmatrix} 1 & a \\\\ 0 & 1 \\end{bmatrix} = \\begin{bmatrix} b_{1} & b_{2} \\\\ b_{3} + cb_{1} + ab_{2} & b_{4} + cb_{2} + ab_{4} \\end{bmatrix}$. Por otro lado, $A(BC) = \\begin{bmatrix} 1 & a \\\\ 0 & 1 \\end{bmatrix} \\begin{bmatrix} b_{1} & b_{2} \\\\ b_{3} & b_{4} \\end{bmatrix} \\begin{bmatrix} 1 & 0 \\\\ c & 1 \\end{bmatrix} = \\begin{bmatrix} 1 & a \\\\ 0 & 1 \\end{bmatrix} \\begin{bmatrix} b_{1} & b_{ 2} \\\\ b_{3} + cb_{1} & b_{4} + cb_{2} \\end{bmatrix} = \\begin{bmatrix} b_{1} + ab_{2} & b_{2} + ab_{4} \\\\ b_{3} + cb_{1} + ab_{2} & b_{4} + cb_{2} + ab_{4} \\end{bmatrix}$. Por lo tanto, $(AB)C = A(BC)$.\n",
    "\n",
    "El codigo en julia es el siguiente:\n",
    "  "
   ]
  },
  {
   "cell_type": "code",
   "execution_count": null,
   "id": "78f71b0e",
   "metadata": {},
   "outputs": [],
   "source": [
    "A = [1 a; 0 1]\n",
    "B = [b1 b2; b3 b4]\n",
    "C = [1 0; c 1]\n",
    "(AB)C == A(BC)"
   ]
  },
  {
   "cell_type": "code",
   "execution_count": null,
   "id": "85544649",
   "metadata": {},
   "outputs": [],
   "source": [
    "(AB)C"
   ]
  },
  {
   "cell_type": "code",
   "execution_count": null,
   "id": "9ba9f3ea",
   "metadata": {},
   "outputs": [],
   "source": [
    "A(BC)"
   ]
  },
  {
   "cell_type": "markdown",
   "id": "e986d8f5",
   "metadata": {},
   "source": [
    "6. La multiplicación matricial __AB__ se puede interpretar como una suma de matrices de rango\n",
    "uno (columnas de __A__ por filas de __B__):\n",
    "\n",
    "$AB = \\begin{bmatrix} | &  & | \\\\ a_{1} & \\cdots & a_{n} \\\\ | &  & | \\end{bmatrix} \\begin{bmatrix} - & b_{1} & - \\\\ & \\cdots &  \\\\ - & b_{n}^T & - \\end{bmatrix} = a_{1}b_{1}^T + \\cdots + a_{n}b_{n}^T$\n",
    "\n",
    "¿Qué forma tienen esas matrices $a_{i}b_{i}^T$ si A = __I__ ? ¿Y si B = __I__ ?\n",
    "\n",
    "Respuesta: Si $A = I$, entonces $AB = \\begin{bmatrix} | &  & | \\\\ a_{1} & \\cdots & a_{n} \\\\ | &  & | \\end{bmatrix} \\begin{bmatrix} - & b_{1} & - \\\\ & \\cdots &  \\\\ - & b_{n}^T & - \\end{bmatrix} = a_{1}b_{1}^T + \\cdots + a_{n}b_{n}^T = \\begin{bmatrix} a_{1}b_{1}^T & \\cdots & a_{n}b_{n}^T \\end{bmatrix}$. Por otro lado, si $B = I$, entonces $AB = \\begin{bmatrix} | &  & | \\\\ a_{1} & \\cdots & a_{n} \\\\ | &  & | \\end{bmatrix} \\begin{bmatrix} - & b_{1} & - \\\\ & \\cdots &  \\\\ - & b_{n}^T & - \\end{bmatrix} = a_{1}b_{1}^T + \\cdots + a_{n}b_{n}^T = \\begin{bmatrix} a_{1}b_{1}^T \\\\ \\vdots \\\\ a_{n}b_{n}^T \\end{bmatrix}$. Por lo tanto, $AB = \\begin{bmatrix} a_{1}b_{1}^T & \\cdots & a_{n}b_{n}^T \\end{bmatrix}$ si $A = I$ y $AB = \\begin{bmatrix} a_{1}b_{1}^T \\\\ \\vdots \\\\ a_{n}b_{n}^T \\end{bmatrix}$ si $B = I$.\n",
    "\n",
    "Un ejemplo de de n = 3 y A = __I__ es el siguiente:\n",
    "\n",
    "$A = \\begin{bmatrix} 1 & 0 & 0 \\\\ 0 & 1 & 0 \\\\ 0 & 0 & 1 \\end{bmatrix}$\n",
    "$B = \\begin{bmatrix} 1 & 2 & 3 \\\\ 4 & 5 & 6 \\\\ 7 & 8 & 9 \\end{bmatrix}$\n",
    "\n",
    "$AB = \\begin{bmatrix} 1 & 0 & 0 \\\\ 0 & 1 & 0 \\\\ 0 & 0 & 1 \\end{bmatrix} \\begin{bmatrix} 1 & 2 & 3 \\\\ 4 & 5 & 6 \\\\ 7 & 8 & 9 \\end{bmatrix} = \\begin{bmatrix} 1 & 2 & 3 \\\\ 4 & 5 & 6 \\\\ 7 & 8 & 9 \\end{bmatrix} = \\begin{bmatrix} 1 & 2 & 3 & 4 & 5 & 6 & 7 & 8 & 9 \\end{bmatrix}$\n",
    "\n",
    "El codigo en julia es el siguiente:"
   ]
  },
  {
   "cell_type": "code",
   "execution_count": null,
   "id": "409ed3e9",
   "metadata": {},
   "outputs": [],
   "source": [
    "\n",
    "A = [1 0 0; 0 1 0; 0 0 1]\n",
    "B = [1 2 3; 4 5 6; 7 8 9]\n",
    "AB = A*B \n"
   ]
  },
  {
   "cell_type": "markdown",
   "id": "cd1ddceb",
   "metadata": {},
   "source": [
    "Y si A = __I__ y B = __I__:\n",
    "\n",
    "$A = \\begin{bmatrix} 1 & 0 & 0 \\\\ 0 & 1 & 0 \\\\ 0 & 0 & 1 \\end{bmatrix}$\n",
    "$B = \\begin{bmatrix} 1 & 0 & 0 \\\\ 0 & 1 & 0 \\\\ 0 & 0 & 1 \\end{bmatrix}$\n",
    "\n",
    "$AB = \\begin{bmatrix} 1 & 0 & 0 \\\\ 0 & 1 & 0 \\\\ 0 & 0 & 1 \\end{bmatrix} \\begin{bmatrix} 1 & 0 & 0 \\\\ 0 & 1 & 0 \\\\ 0 & 0 & 1 \\end{bmatrix} = \\begin{bmatrix} 1 & 0 & 0 \\\\ 0 & 1 & 0 \\\\ 0 & 0 & 1 \\end{bmatrix} = \\begin{bmatrix} 1 & 0 & 0 \\\\ 0 & 1 & 0 \\\\ 0 & 0 & 1 \\end{bmatrix}$\n",
    "\n",
    "El codigo en julia es el siguiente:"
   ]
  },
  {
   "cell_type": "code",
   "execution_count": null,
   "id": "da6e8787",
   "metadata": {},
   "outputs": [],
   "source": [
    "\n",
    "A = [1 0 0; 0 1 0; 0 0 1]\n",
    "B = [1 0 0; 0 1 0; 0 0 1]\n",
    "AB = A*B"
   ]
  },
  {
   "cell_type": "markdown",
   "id": "cd4fa246",
   "metadata": {},
   "source": [
    "y si solo B = __I__:\n",
    "\n",
    "$A = \\begin{bmatrix} 1 & 2 & 3 \\\\ 4 & 5 & 6 \\\\ 7 & 8 & 9 \\end{bmatrix}$\n",
    "$B = \\begin{bmatrix} 1 & 0 & 0 \\\\ 0 & 1 & 0 \\\\ 0 & 0 & 1 \\end{bmatrix}$\n",
    "$AB = \\begin{bmatrix} 1 & 2 & 3 \\\\ 4 & 5 & 6 \\\\ 7 & 8 & 9 \\end{bmatrix} \\begin{bmatrix} 1 & 0 & 0 \\\\ 0 & 1 & 0 \\\\ 0 & 0 & 1 \\end{bmatrix} = \\begin{bmatrix} 1 & 2 & 3 \\\\ 4 & 5 & 6 \\\\ 7 & 8 & 9 \\end{bmatrix} = \\begin{bmatrix} 1 \\\\ 4 \\\\ 7 \\\\ 2 \\\\ 5 \\\\ 8 \\\\ 3 \\\\ 6 \\\\ 9 \\end{bmatrix}$\n",
    "\n",
    "El codigo en julia es el siguiente:"
   ]
  },
  {
   "cell_type": "code",
   "execution_count": null,
   "id": "80634712",
   "metadata": {},
   "outputs": [],
   "source": [
    "A = [1 2 3; 4 5 6; 7 8 9]\n",
    "B = [1 0 0; 0 1 0; 0 0 1]\n",
    "\n",
    "AB = A*B"
   ]
  },
  {
   "cell_type": "markdown",
   "id": "547d9af6",
   "metadata": {},
   "source": [
    "7. Si $a_{1,1}, . . . , a_{1n}$ es la primera fila de una matriz de rango uno y $a_{1,1}, . . . , a_{m1}$ es la primera columna encuentre una formula para aij y verifique para $A = \\begin{bmatrix} 2 & 3 \\\\ 4 & \\end{bmatrix}$ ¿Cuando no funciona la formula? En ese caso ¿la matriz de rango uno es no única o imposible?\n",
    "\n",
    "Respuesta: Si $a_{1,1}, . . . , a_{1n}$ es la primera fila de una matriz de rango uno y $a_{1,1}, . . . , a_{m1}$ es la primera columna, entonces $a_{ij} = a_{1,1} + (i-1)a_{1,j} + (j-1)a_{i,1} - (i-1)(j-1)a_{1,1}$. Por ejemplo, si $A = \\begin{bmatrix} 2 & 3 \\\\ 4 & \\end{bmatrix}$, entonces $a_{ij} = 2 + (i-1)3 + (j-1)4 - (i-1)(j-1)2 = 2 + 3(i-1) + 4(j-1) - 2(i-1)(j-1)$.\n",
    "\n",
    "La formula no funciona si $a_{1,1} = 0$ o si $a_{1,1} = 0$ y $a_{1,j} = 0$ para $j = 2, . . . , n$ o si $a_{1,1} = 0$ y $a_{i,1} = 0$ para $i = 2, . . . , m$. En ese caso, la matriz de rango uno es imposible.\n",
    "\n",
    "Para que la matriz de rango uno sea no única, basta que $a_{1,1} = 0$ y $a_{1,j} = 0$ para $j = 2, . . . , n$ y $a_{i,1} = 0$ para $i = 2, . . . , m$. En ese caso, la matriz de rango uno es no única.\n",
    "\n",
    "Pd: No unica significa que hay mas de una matriz de rango uno que cumpla con las condiciones dadas y que no es imposible. y no es imposible significa que hay una matriz de rango uno que cumpla con las condiciones dadas.\n",
    "\n"
   ]
  },
  {
   "cell_type": "markdown",
   "id": "9733a577",
   "metadata": {},
   "source": [
    "8. Factorice en __A__ = __LU__ las siguientes matrices\n",
    "\n",
    "a) $A = \\begin{bmatrix} 1 & 3 \\\\ 4 & 8 \\end{bmatrix}$\n",
    "b) $A = \\begin{bmatrix} 1 & 1 & 1 \\\\ 2 & 2 & 2 \\\\ 3 & 3 & 3 \\end{bmatrix}$\n",
    "c) $A = \\begin{bmatrix} 1 & 1 & 0 \\\\ 1 & 2 & 1 \\\\ 0 & 1 & 2 \\end{bmatrix}$\n",
    "d) $A = \\begin{bmatrix} 1 & 1 & 1 \\\\ 1 & 2 & 3 \\\\ 1 & 3 & 6 \\end{bmatrix}$\n",
    "\n",
    "Respuesta:\n",
    "a)\n",
    "\n",
    "$A = \\begin{bmatrix} 1 & 3 \\\\ 4 & 8 \\end{bmatrix} $\n",
    "\n",
    "$A = \\begin{bmatrix} 1 & 3 \\\\ 4 & 8 \\end{bmatrix} * \\begin{bmatrix} 1 & 0 \\\\ -4 & 1 \\end{bmatrix} = \\begin{bmatrix} 1 & 3 \\\\ 0 & -4 \\end{bmatrix} = E1*A$\n",
    "Ya teniendo la matriz triangular inferior, se obtiene U, siendo U = E1*A\n",
    "Para obtener L, se debe hacer la inversa de E1, siendo L = E1^-1\n",
    "\n",
    "Para obtener la inversa de E1, se debe hacer la matriz identidad y hacer operaciones elementales para obtener la matriz inversa, siendo E1^-1 = E1^-1*E1 = I1\n",
    "\n",
    "Finalmente, se obtiene L = E1^-1 = I1 y U = E1*A = A\n",
    "\n",
    "d) \n",
    "\n"
   ]
  },
  {
   "cell_type": "code",
   "execution_count": 60,
   "id": "78907317",
   "metadata": {},
   "outputs": [
    {
     "data": {
      "text/plain": [
       "2×2 Matrix{Int64}:\n",
       " 1   3\n",
       " 0  -4"
      ]
     },
     "execution_count": 60,
     "metadata": {},
     "output_type": "execute_result"
    }
   ],
   "source": [
    "using LinearAlgebra\n",
    "A = [1 3;\n",
    "    4 8]\n",
    "E1 = [1 0;\n",
    "    -4 1]\n",
    "U = E1*A\n",
    "#E1*A = U \n",
    "# Para encontrar L se multiplica E1 por A y se obtiene U, luego se invierte E1 y se obtiene L \n",
    "#L = inv(E1)\n",
    "#U = E1\n",
    "#L*U\n",
    "\n",
    "#using LinearAlgebra\n",
    "#L, U = lu(A)\n",
    "\n",
    "L = [1 0; 4 1] \n",
    "L*U\n",
    "\n",
    "using LinearAlgebra\n",
    "L, U1 = lu(A)\n"
   ]
  },
  {
   "cell_type": "code",
   "execution_count": 75,
   "id": "f8161590",
   "metadata": {},
   "outputs": [
    {
     "data": {
      "text/plain": [
       "3×3 Matrix{Int64}:\n",
       " 1  1  0\n",
       " 1  2  1\n",
       " 0  1  2"
      ]
     },
     "execution_count": 75,
     "metadata": {},
     "output_type": "execute_result"
    }
   ],
   "source": [
    "A = [ 1 1 0 ; \n",
    "      1 2 1 ;\n",
    "      0 1 2]\n",
    "E1 = [1 0 0; -1 1 0; 0 0 1]\n",
    "E1*A\n",
    "E2 = [1 0 0; 0 1 0; 0 -1 1]\n",
    "U = E2*E1*A\n",
    "E2*E1\n",
    "L= [ 1 0 0;\n",
    "        1 1 0;\n",
    "        0 1 1]\n",
    "L*U\n"
   ]
  },
  {
   "cell_type": "code",
   "execution_count": null,
   "id": "37a9776b",
   "metadata": {},
   "outputs": [],
   "source": []
  }
 ],
 "metadata": {
  "kernelspec": {
   "display_name": "Julia 1.8.0",
   "language": "julia",
   "name": "julia-1.8"
  },
  "language_info": {
   "file_extension": ".jl",
   "mimetype": "application/julia",
   "name": "julia",
   "version": "1.8.0"
  }
 },
 "nbformat": 4,
 "nbformat_minor": 5
}
