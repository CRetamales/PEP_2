{
 "cells": [
  {
   "cell_type": "markdown",
   "id": "07687e58-9431-42b9-905e-bf1e9910f847",
   "metadata": {},
   "source": [
    "# Guía de Ejercicios 4"
   ]
  },
  {
   "cell_type": "markdown",
   "id": "9875d4c8",
   "metadata": {},
   "source": [
    "Mayusculas son matrices, minusculas son vectores columnas."
   ]
  },
  {
   "cell_type": "markdown",
   "id": "836617ba",
   "metadata": {},
   "source": [
    "1. Si A es una matriz de m × n y B es de n × p, el algoritmo naïve de multiplicación calcula las entradas de C = AB una a una mediante la formula cij = Pn k=1 aikbkj . Calcule de manera exacta el número de multiplicaciones y de sumas que requiere este algoritmo. Para matrices cuadradas de n × n ¿Cuántas operaciones se requieren en notación O? ¿Existen algoritmos mas eficientes en términos asintóticos?\n",
    "\n",
    "Respuesta: El algoritmo naïve de multiplicación requiere de $n^3$ multiplicaciones y $n^2$ sumas. Para matrices cuadradas de $n \\times n$ se requieren $n^3$ operaciones en notación O. Existen algoritmos más eficientes en términos asintóticos, como el algoritmo de Strassen que requiere $n^{2.807}$ operaciones. También se puede utilizar el algoritmo de multiplicación de Karatsuba que requiere $n^{2.585}$ operaciones. "
   ]
  },
  {
   "cell_type": "markdown",
   "id": "ba263e69",
   "metadata": {},
   "source": [
    "2. Una matriz es diagonal si tiene ceros en todas las entradas fuera de la diagonal principal. Si\n",
    "D es diagonal de n × n y A es de n × n, describa en palabras que efecto tiene sobre las filas\n",
    "y/o columnas de A hacer las multiplicaciones DA y AD. Ejemplifique.\n",
    "\n",
    "Respuesta: Si D es diagonal de $n \\times n$ y A es de $n \\times n$, entonces la multiplicación DA es equivalente a multiplicar cada fila de A por el elemento de la diagonal correspondiente. Por otro lado, la multiplicación AD es equivalente a multiplicar cada columna de A por el elemento de la diagonal correspondiente. Un ejemplo de esto es la matriz $A = \\begin{bmatrix} 1 & 2 & 3 \\\\ 4 & 5 & 6 \\\\ 7 & 8 & 9 \\end{bmatrix}$ y la matriz diagonal $D = \\begin{bmatrix} 1 & 0 & 0 \\\\ 0 & 2 & 0 \\\\ 0 & 0 & 3 \\end{bmatrix}$. Entonces, $DA = \\begin{bmatrix} 1 & 2 & 3 \\\\ 8 & 10 & 12 \\\\ 21 & 24 & 27 \\end{bmatrix}$ y $AD = \\begin{bmatrix} 1 & 4 & 9 \\\\ 2 & 10 & 18 \\\\ 3 & 12 & 27 \\end{bmatrix}$."
   ]
  },
  {
   "cell_type": "code",
   "execution_count": 4,
   "id": "2165a02e",
   "metadata": {},
   "outputs": [
    {
     "data": {
      "text/plain": [
       "3×3 Matrix{Int64}:\n",
       "  1   2   3\n",
       "  8  10  12\n",
       " 21  24  27"
      ]
     },
     "execution_count": 4,
     "metadata": {},
     "output_type": "execute_result"
    }
   ],
   "source": [
    "using LinearAlgebra\n",
    "\n",
    "D = [1 0 0; 0 2 0; 0 0 3]\n",
    "\n",
    "A = [1 2 3; 4 5 6; 7 8 9]\n",
    "\n",
    "DA = D*A\n",
    "\n",
    "AD = A*D\n",
    "\n",
    "DA"
   ]
  },
  {
   "cell_type": "code",
   "execution_count": 3,
   "id": "e2e5ac37-9dfa-496e-9fa9-7bc52a26d9a2",
   "metadata": {},
   "outputs": [
    {
     "data": {
      "text/plain": [
       "3×3 Matrix{Int64}:\n",
       " 1   4   9\n",
       " 4  10  18\n",
       " 7  16  27"
      ]
     },
     "execution_count": 3,
     "metadata": {},
     "output_type": "execute_result"
    }
   ],
   "source": [
    "AD"
   ]
  },
  {
   "cell_type": "code",
   "execution_count": null,
   "id": "1f046b3a-da09-4d3a-a1d8-4c2491d15b43",
   "metadata": {},
   "outputs": [],
   "source": []
  }
 ],
 "metadata": {
  "kernelspec": {
   "display_name": "Julia 1.8.0",
   "language": "julia",
   "name": "julia-1.8"
  },
  "language_info": {
   "file_extension": ".jl",
   "mimetype": "application/julia",
   "name": "julia",
   "version": "1.8.0"
  }
 },
 "nbformat": 4,
 "nbformat_minor": 5
}
